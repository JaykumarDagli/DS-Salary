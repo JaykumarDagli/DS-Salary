{
 "cells": [
  {
   "cell_type": "markdown",
   "metadata": {},
   "source": [
    "## Model Building "
   ]
  },
  {
   "cell_type": "code",
   "execution_count": 1,
   "metadata": {},
   "outputs": [],
   "source": [
    "import pandas as pd\n",
    "import matplotlib.pyplot as plt\n",
    "import numpy as np"
   ]
  },
  {
   "cell_type": "code",
   "execution_count": 2,
   "metadata": {},
   "outputs": [],
   "source": [
    "df=pd.read_csv('glassdoor_jobs_cleaned.csv')"
   ]
  },
  {
   "cell_type": "code",
   "execution_count": 3,
   "metadata": {},
   "outputs": [
    {
     "data": {
      "text/plain": [
       "Index(['Job Title', 'Salary Estimate', 'Job Description', 'Rating',\n",
       "       'Company Name', 'Location', 'Headquarters', 'Size', 'Founded',\n",
       "       'Type of ownership', 'Industry', 'Sector', 'Revenue', 'Competitors',\n",
       "       'min_salary', 'max_salary', 'avg_salary', 'State', 'jobhq', 'age',\n",
       "       'python_yn', 'r_yn', 'aws_yn', 'spark_yn', 'hadoop_yn', 'docker_yn',\n",
       "       'sql_yn', 'linux_yn', 'flask_yn', 'django_yn', 'tensorflow_yn',\n",
       "       'keras_yn', 'pytorch_yn', 'algo_yn', 'stats_yn', 'tableau_yn',\n",
       "       'job_type', 'job_type_num', 'seniority', 'seniority_num', 'len_desc',\n",
       "       'num_comp'],\n",
       "      dtype='object')"
      ]
     },
     "execution_count": 3,
     "metadata": {},
     "output_type": "execute_result"
    }
   ],
   "source": [
    "df.columns"
   ]
  },
  {
   "cell_type": "code",
   "execution_count": 4,
   "metadata": {},
   "outputs": [],
   "source": [
    "df_model=df[['avg_salary','Rating','jobhq','age','num_comp',\n",
    "             'python_yn', 'r_yn', 'aws_yn', 'spark_yn', 'hadoop_yn', 'docker_yn','sql_yn', 'linux_yn',\n",
    "             'flask_yn', 'django_yn', 'tensorflow_yn','keras_yn', 'pytorch_yn', 'tableau_yn',\n",
    "             'algo_yn', 'stats_yn','len_desc','job_type_num','seniority_num']]"
   ]
  },
  {
   "cell_type": "code",
   "execution_count": 5,
   "metadata": {},
   "outputs": [
    {
     "data": {
      "text/html": [
       "<div>\n",
       "<style scoped>\n",
       "    .dataframe tbody tr th:only-of-type {\n",
       "        vertical-align: middle;\n",
       "    }\n",
       "\n",
       "    .dataframe tbody tr th {\n",
       "        vertical-align: top;\n",
       "    }\n",
       "\n",
       "    .dataframe thead th {\n",
       "        text-align: right;\n",
       "    }\n",
       "</style>\n",
       "<table border=\"1\" class=\"dataframe\">\n",
       "  <thead>\n",
       "    <tr style=\"text-align: right;\">\n",
       "      <th></th>\n",
       "      <th>avg_salary</th>\n",
       "      <th>Rating</th>\n",
       "      <th>jobhq</th>\n",
       "      <th>age</th>\n",
       "      <th>num_comp</th>\n",
       "      <th>python_yn</th>\n",
       "      <th>r_yn</th>\n",
       "      <th>aws_yn</th>\n",
       "      <th>spark_yn</th>\n",
       "      <th>hadoop_yn</th>\n",
       "      <th>...</th>\n",
       "      <th>django_yn</th>\n",
       "      <th>tensorflow_yn</th>\n",
       "      <th>keras_yn</th>\n",
       "      <th>pytorch_yn</th>\n",
       "      <th>tableau_yn</th>\n",
       "      <th>algo_yn</th>\n",
       "      <th>stats_yn</th>\n",
       "      <th>len_desc</th>\n",
       "      <th>job_type_num</th>\n",
       "      <th>seniority_num</th>\n",
       "    </tr>\n",
       "  </thead>\n",
       "  <tbody>\n",
       "    <tr>\n",
       "      <th>0</th>\n",
       "      <td>85.0</td>\n",
       "      <td>4.2</td>\n",
       "      <td>0</td>\n",
       "      <td>52</td>\n",
       "      <td>0</td>\n",
       "      <td>0</td>\n",
       "      <td>0</td>\n",
       "      <td>0</td>\n",
       "      <td>0</td>\n",
       "      <td>1</td>\n",
       "      <td>...</td>\n",
       "      <td>0</td>\n",
       "      <td>0</td>\n",
       "      <td>0</td>\n",
       "      <td>0</td>\n",
       "      <td>0</td>\n",
       "      <td>1</td>\n",
       "      <td>1</td>\n",
       "      <td>3962</td>\n",
       "      <td>3</td>\n",
       "      <td>2</td>\n",
       "    </tr>\n",
       "    <tr>\n",
       "      <th>1</th>\n",
       "      <td>85.0</td>\n",
       "      <td>3.2</td>\n",
       "      <td>1</td>\n",
       "      <td>28</td>\n",
       "      <td>0</td>\n",
       "      <td>1</td>\n",
       "      <td>1</td>\n",
       "      <td>0</td>\n",
       "      <td>0</td>\n",
       "      <td>0</td>\n",
       "      <td>...</td>\n",
       "      <td>0</td>\n",
       "      <td>0</td>\n",
       "      <td>0</td>\n",
       "      <td>0</td>\n",
       "      <td>1</td>\n",
       "      <td>0</td>\n",
       "      <td>1</td>\n",
       "      <td>5358</td>\n",
       "      <td>3</td>\n",
       "      <td>2</td>\n",
       "    </tr>\n",
       "    <tr>\n",
       "      <th>2</th>\n",
       "      <td>85.0</td>\n",
       "      <td>2.9</td>\n",
       "      <td>1</td>\n",
       "      <td>5</td>\n",
       "      <td>0</td>\n",
       "      <td>1</td>\n",
       "      <td>1</td>\n",
       "      <td>0</td>\n",
       "      <td>0</td>\n",
       "      <td>0</td>\n",
       "      <td>...</td>\n",
       "      <td>0</td>\n",
       "      <td>0</td>\n",
       "      <td>0</td>\n",
       "      <td>0</td>\n",
       "      <td>0</td>\n",
       "      <td>0</td>\n",
       "      <td>1</td>\n",
       "      <td>3183</td>\n",
       "      <td>7</td>\n",
       "      <td>2</td>\n",
       "    </tr>\n",
       "    <tr>\n",
       "      <th>3</th>\n",
       "      <td>85.0</td>\n",
       "      <td>4.2</td>\n",
       "      <td>0</td>\n",
       "      <td>32</td>\n",
       "      <td>3</td>\n",
       "      <td>0</td>\n",
       "      <td>0</td>\n",
       "      <td>0</td>\n",
       "      <td>0</td>\n",
       "      <td>0</td>\n",
       "      <td>...</td>\n",
       "      <td>0</td>\n",
       "      <td>0</td>\n",
       "      <td>0</td>\n",
       "      <td>0</td>\n",
       "      <td>0</td>\n",
       "      <td>0</td>\n",
       "      <td>0</td>\n",
       "      <td>4218</td>\n",
       "      <td>1</td>\n",
       "      <td>2</td>\n",
       "    </tr>\n",
       "    <tr>\n",
       "      <th>4</th>\n",
       "      <td>85.0</td>\n",
       "      <td>3.8</td>\n",
       "      <td>0</td>\n",
       "      <td>16</td>\n",
       "      <td>0</td>\n",
       "      <td>0</td>\n",
       "      <td>0</td>\n",
       "      <td>0</td>\n",
       "      <td>0</td>\n",
       "      <td>0</td>\n",
       "      <td>...</td>\n",
       "      <td>0</td>\n",
       "      <td>0</td>\n",
       "      <td>0</td>\n",
       "      <td>0</td>\n",
       "      <td>0</td>\n",
       "      <td>0</td>\n",
       "      <td>1</td>\n",
       "      <td>1833</td>\n",
       "      <td>7</td>\n",
       "      <td>2</td>\n",
       "    </tr>\n",
       "  </tbody>\n",
       "</table>\n",
       "<p>5 rows × 24 columns</p>\n",
       "</div>"
      ],
      "text/plain": [
       "   avg_salary  Rating  jobhq  age  num_comp  python_yn  r_yn  aws_yn  \\\n",
       "0        85.0     4.2      0   52         0          0     0       0   \n",
       "1        85.0     3.2      1   28         0          1     1       0   \n",
       "2        85.0     2.9      1    5         0          1     1       0   \n",
       "3        85.0     4.2      0   32         3          0     0       0   \n",
       "4        85.0     3.8      0   16         0          0     0       0   \n",
       "\n",
       "   spark_yn  hadoop_yn  ...  django_yn  tensorflow_yn  keras_yn  pytorch_yn  \\\n",
       "0         0          1  ...          0              0         0           0   \n",
       "1         0          0  ...          0              0         0           0   \n",
       "2         0          0  ...          0              0         0           0   \n",
       "3         0          0  ...          0              0         0           0   \n",
       "4         0          0  ...          0              0         0           0   \n",
       "\n",
       "   tableau_yn  algo_yn  stats_yn  len_desc  job_type_num  seniority_num  \n",
       "0           0        1         1      3962             3              2  \n",
       "1           1        0         1      5358             3              2  \n",
       "2           0        0         1      3183             7              2  \n",
       "3           0        0         0      4218             1              2  \n",
       "4           0        0         1      1833             7              2  \n",
       "\n",
       "[5 rows x 24 columns]"
      ]
     },
     "execution_count": 5,
     "metadata": {},
     "output_type": "execute_result"
    }
   ],
   "source": [
    "df_model.head()"
   ]
  },
  {
   "cell_type": "markdown",
   "metadata": {},
   "source": [
    "## Get Dummy data "
   ]
  },
  {
   "cell_type": "code",
   "execution_count": 6,
   "metadata": {},
   "outputs": [],
   "source": [
    "df_dum=pd.get_dummies(df_model)"
   ]
  },
  {
   "cell_type": "code",
   "execution_count": 7,
   "metadata": {},
   "outputs": [],
   "source": [
    "from sklearn.model_selection import train_test_split"
   ]
  },
  {
   "cell_type": "code",
   "execution_count": 8,
   "metadata": {},
   "outputs": [],
   "source": [
    "X=df_dum.drop('avg_salary',axis=1)\n",
    "y=df_dum.avg_salary.values"
   ]
  },
  {
   "cell_type": "code",
   "execution_count": 9,
   "metadata": {},
   "outputs": [],
   "source": [
    "X_train,X_test,y_train,y_test=train_test_split(X,y,test_size=0.2,random_state=24)"
   ]
  },
  {
   "cell_type": "code",
   "execution_count": 10,
   "metadata": {},
   "outputs": [
    {
     "data": {
      "text/plain": [
       "Index(['Rating', 'jobhq', 'age', 'num_comp', 'python_yn', 'r_yn', 'aws_yn',\n",
       "       'spark_yn', 'hadoop_yn', 'docker_yn', 'sql_yn', 'linux_yn', 'flask_yn',\n",
       "       'django_yn', 'tensorflow_yn', 'keras_yn', 'pytorch_yn', 'tableau_yn',\n",
       "       'algo_yn', 'stats_yn', 'len_desc', 'job_type_num', 'seniority_num'],\n",
       "      dtype='object')"
      ]
     },
     "execution_count": 10,
     "metadata": {},
     "output_type": "execute_result"
    }
   ],
   "source": [
    "X_test.columns"
   ]
  },
  {
   "cell_type": "markdown",
   "metadata": {},
   "source": [
    "## Linear Regression"
   ]
  },
  {
   "cell_type": "code",
   "execution_count": 11,
   "metadata": {},
   "outputs": [],
   "source": [
    "import statsmodels.api as sm"
   ]
  },
  {
   "cell_type": "code",
   "execution_count": 12,
   "metadata": {},
   "outputs": [],
   "source": [
    "X_sm=X=sm.add_constant(X)"
   ]
  },
  {
   "cell_type": "code",
   "execution_count": 13,
   "metadata": {},
   "outputs": [],
   "source": [
    "model=sm.OLS(y,X_sm)"
   ]
  },
  {
   "cell_type": "code",
   "execution_count": 14,
   "metadata": {},
   "outputs": [
    {
     "data": {
      "text/html": [
       "<table class=\"simpletable\">\n",
       "<caption>OLS Regression Results</caption>\n",
       "<tr>\n",
       "  <th>Dep. Variable:</th>            <td>y</td>        <th>  R-squared:         </th> <td>   0.063</td>\n",
       "</tr>\n",
       "<tr>\n",
       "  <th>Model:</th>                   <td>OLS</td>       <th>  Adj. R-squared:    </th> <td>   0.039</td>\n",
       "</tr>\n",
       "<tr>\n",
       "  <th>Method:</th>             <td>Least Squares</td>  <th>  F-statistic:       </th> <td>   2.665</td>\n",
       "</tr>\n",
       "<tr>\n",
       "  <th>Date:</th>             <td>Mon, 06 Jul 2020</td> <th>  Prob (F-statistic):</th> <td>3.80e-05</td>\n",
       "</tr>\n",
       "<tr>\n",
       "  <th>Time:</th>                 <td>11:19:38</td>     <th>  Log-Likelihood:    </th> <td> -4432.4</td>\n",
       "</tr>\n",
       "<tr>\n",
       "  <th>No. Observations:</th>      <td>   940</td>      <th>  AIC:               </th> <td>   8913.</td>\n",
       "</tr>\n",
       "<tr>\n",
       "  <th>Df Residuals:</th>          <td>   916</td>      <th>  BIC:               </th> <td>   9029.</td>\n",
       "</tr>\n",
       "<tr>\n",
       "  <th>Df Model:</th>              <td>    23</td>      <th>                     </th>     <td> </td>   \n",
       "</tr>\n",
       "<tr>\n",
       "  <th>Covariance Type:</th>      <td>nonrobust</td>    <th>                     </th>     <td> </td>   \n",
       "</tr>\n",
       "</table>\n",
       "<table class=\"simpletable\">\n",
       "<tr>\n",
       "        <td></td>           <th>coef</th>     <th>std err</th>      <th>t</th>      <th>P>|t|</th>  <th>[0.025</th>    <th>0.975]</th>  \n",
       "</tr>\n",
       "<tr>\n",
       "  <th>const</th>         <td>   94.8987</td> <td>    8.628</td> <td>   10.999</td> <td> 0.000</td> <td>   77.967</td> <td>  111.831</td>\n",
       "</tr>\n",
       "<tr>\n",
       "  <th>Rating</th>        <td>    2.4616</td> <td>    1.501</td> <td>    1.640</td> <td> 0.101</td> <td>   -0.484</td> <td>    5.407</td>\n",
       "</tr>\n",
       "<tr>\n",
       "  <th>jobhq</th>         <td>    0.4149</td> <td>    1.885</td> <td>    0.220</td> <td> 0.826</td> <td>   -3.285</td> <td>    4.115</td>\n",
       "</tr>\n",
       "<tr>\n",
       "  <th>age</th>           <td>    0.0311</td> <td>    0.022</td> <td>    1.419</td> <td> 0.156</td> <td>   -0.012</td> <td>    0.074</td>\n",
       "</tr>\n",
       "<tr>\n",
       "  <th>num_comp</th>      <td>   -0.0777</td> <td>    0.729</td> <td>   -0.107</td> <td> 0.915</td> <td>   -1.509</td> <td>    1.353</td>\n",
       "</tr>\n",
       "<tr>\n",
       "  <th>python_yn</th>     <td>    4.9740</td> <td>    2.453</td> <td>    2.028</td> <td> 0.043</td> <td>    0.160</td> <td>    9.788</td>\n",
       "</tr>\n",
       "<tr>\n",
       "  <th>r_yn</th>          <td>   -3.7256</td> <td>    2.071</td> <td>   -1.799</td> <td> 0.072</td> <td>   -7.791</td> <td>    0.339</td>\n",
       "</tr>\n",
       "<tr>\n",
       "  <th>aws_yn</th>        <td>   -3.8923</td> <td>    2.298</td> <td>   -1.694</td> <td> 0.091</td> <td>   -8.402</td> <td>    0.617</td>\n",
       "</tr>\n",
       "<tr>\n",
       "  <th>spark_yn</th>      <td>   -0.2601</td> <td>    2.796</td> <td>   -0.093</td> <td> 0.926</td> <td>   -5.747</td> <td>    5.227</td>\n",
       "</tr>\n",
       "<tr>\n",
       "  <th>hadoop_yn</th>     <td>   -0.9683</td> <td>    2.778</td> <td>   -0.349</td> <td> 0.728</td> <td>   -6.421</td> <td>    4.484</td>\n",
       "</tr>\n",
       "<tr>\n",
       "  <th>docker_yn</th>     <td>    0.6014</td> <td>    5.572</td> <td>    0.108</td> <td> 0.914</td> <td>  -10.335</td> <td>   11.537</td>\n",
       "</tr>\n",
       "<tr>\n",
       "  <th>sql_yn</th>        <td>    2.3600</td> <td>    2.110</td> <td>    1.119</td> <td> 0.264</td> <td>   -1.781</td> <td>    6.501</td>\n",
       "</tr>\n",
       "<tr>\n",
       "  <th>linux_yn</th>      <td>    5.0028</td> <td>    3.254</td> <td>    1.538</td> <td> 0.124</td> <td>   -1.383</td> <td>   11.388</td>\n",
       "</tr>\n",
       "<tr>\n",
       "  <th>flask_yn</th>      <td>    9.1208</td> <td>    9.238</td> <td>    0.987</td> <td> 0.324</td> <td>   -9.010</td> <td>   27.251</td>\n",
       "</tr>\n",
       "<tr>\n",
       "  <th>django_yn</th>     <td>    5.9560</td> <td>   10.294</td> <td>    0.579</td> <td> 0.563</td> <td>  -14.247</td> <td>   26.159</td>\n",
       "</tr>\n",
       "<tr>\n",
       "  <th>tensorflow_yn</th> <td>   -4.3551</td> <td>    3.701</td> <td>   -1.177</td> <td> 0.240</td> <td>  -11.619</td> <td>    2.909</td>\n",
       "</tr>\n",
       "<tr>\n",
       "  <th>keras_yn</th>      <td>    1.5708</td> <td>    4.504</td> <td>    0.349</td> <td> 0.727</td> <td>   -7.269</td> <td>   10.410</td>\n",
       "</tr>\n",
       "<tr>\n",
       "  <th>pytorch_yn</th>    <td>    5.5300</td> <td>    4.204</td> <td>    1.316</td> <td> 0.189</td> <td>   -2.720</td> <td>   13.780</td>\n",
       "</tr>\n",
       "<tr>\n",
       "  <th>tableau_yn</th>    <td>   -2.5618</td> <td>    2.463</td> <td>   -1.040</td> <td> 0.299</td> <td>   -7.395</td> <td>    2.272</td>\n",
       "</tr>\n",
       "<tr>\n",
       "  <th>algo_yn</th>       <td>    2.5754</td> <td>    2.063</td> <td>    1.248</td> <td> 0.212</td> <td>   -1.474</td> <td>    6.624</td>\n",
       "</tr>\n",
       "<tr>\n",
       "  <th>stats_yn</th>      <td>    8.5982</td> <td>    2.272</td> <td>    3.785</td> <td> 0.000</td> <td>    4.140</td> <td>   13.056</td>\n",
       "</tr>\n",
       "<tr>\n",
       "  <th>len_desc</th>      <td>   -0.0014</td> <td>    0.001</td> <td>   -2.307</td> <td> 0.021</td> <td>   -0.003</td> <td>   -0.000</td>\n",
       "</tr>\n",
       "<tr>\n",
       "  <th>job_type_num</th>  <td>   -0.7919</td> <td>    0.645</td> <td>   -1.228</td> <td> 0.220</td> <td>   -2.058</td> <td>    0.474</td>\n",
       "</tr>\n",
       "<tr>\n",
       "  <th>seniority_num</th> <td>    2.3628</td> <td>    2.504</td> <td>    0.944</td> <td> 0.346</td> <td>   -2.551</td> <td>    7.276</td>\n",
       "</tr>\n",
       "</table>\n",
       "<table class=\"simpletable\">\n",
       "<tr>\n",
       "  <th>Omnibus:</th>       <td>19.329</td> <th>  Durbin-Watson:     </th> <td>   0.198</td>\n",
       "</tr>\n",
       "<tr>\n",
       "  <th>Prob(Omnibus):</th> <td> 0.000</td> <th>  Jarque-Bera (JB):  </th> <td>  15.394</td>\n",
       "</tr>\n",
       "<tr>\n",
       "  <th>Skew:</th>          <td> 0.229</td> <th>  Prob(JB):          </th> <td>0.000454</td>\n",
       "</tr>\n",
       "<tr>\n",
       "  <th>Kurtosis:</th>      <td> 2.571</td> <th>  Cond. No.          </th> <td>5.45e+04</td>\n",
       "</tr>\n",
       "</table><br/><br/>Warnings:<br/>[1] Standard Errors assume that the covariance matrix of the errors is correctly specified.<br/>[2] The condition number is large, 5.45e+04. This might indicate that there are<br/>strong multicollinearity or other numerical problems."
      ],
      "text/plain": [
       "<class 'statsmodels.iolib.summary.Summary'>\n",
       "\"\"\"\n",
       "                            OLS Regression Results                            \n",
       "==============================================================================\n",
       "Dep. Variable:                      y   R-squared:                       0.063\n",
       "Model:                            OLS   Adj. R-squared:                  0.039\n",
       "Method:                 Least Squares   F-statistic:                     2.665\n",
       "Date:                Mon, 06 Jul 2020   Prob (F-statistic):           3.80e-05\n",
       "Time:                        11:19:38   Log-Likelihood:                -4432.4\n",
       "No. Observations:                 940   AIC:                             8913.\n",
       "Df Residuals:                     916   BIC:                             9029.\n",
       "Df Model:                          23                                         \n",
       "Covariance Type:            nonrobust                                         \n",
       "=================================================================================\n",
       "                    coef    std err          t      P>|t|      [0.025      0.975]\n",
       "---------------------------------------------------------------------------------\n",
       "const            94.8987      8.628     10.999      0.000      77.967     111.831\n",
       "Rating            2.4616      1.501      1.640      0.101      -0.484       5.407\n",
       "jobhq             0.4149      1.885      0.220      0.826      -3.285       4.115\n",
       "age               0.0311      0.022      1.419      0.156      -0.012       0.074\n",
       "num_comp         -0.0777      0.729     -0.107      0.915      -1.509       1.353\n",
       "python_yn         4.9740      2.453      2.028      0.043       0.160       9.788\n",
       "r_yn             -3.7256      2.071     -1.799      0.072      -7.791       0.339\n",
       "aws_yn           -3.8923      2.298     -1.694      0.091      -8.402       0.617\n",
       "spark_yn         -0.2601      2.796     -0.093      0.926      -5.747       5.227\n",
       "hadoop_yn        -0.9683      2.778     -0.349      0.728      -6.421       4.484\n",
       "docker_yn         0.6014      5.572      0.108      0.914     -10.335      11.537\n",
       "sql_yn            2.3600      2.110      1.119      0.264      -1.781       6.501\n",
       "linux_yn          5.0028      3.254      1.538      0.124      -1.383      11.388\n",
       "flask_yn          9.1208      9.238      0.987      0.324      -9.010      27.251\n",
       "django_yn         5.9560     10.294      0.579      0.563     -14.247      26.159\n",
       "tensorflow_yn    -4.3551      3.701     -1.177      0.240     -11.619       2.909\n",
       "keras_yn          1.5708      4.504      0.349      0.727      -7.269      10.410\n",
       "pytorch_yn        5.5300      4.204      1.316      0.189      -2.720      13.780\n",
       "tableau_yn       -2.5618      2.463     -1.040      0.299      -7.395       2.272\n",
       "algo_yn           2.5754      2.063      1.248      0.212      -1.474       6.624\n",
       "stats_yn          8.5982      2.272      3.785      0.000       4.140      13.056\n",
       "len_desc         -0.0014      0.001     -2.307      0.021      -0.003      -0.000\n",
       "job_type_num     -0.7919      0.645     -1.228      0.220      -2.058       0.474\n",
       "seniority_num     2.3628      2.504      0.944      0.346      -2.551       7.276\n",
       "==============================================================================\n",
       "Omnibus:                       19.329   Durbin-Watson:                   0.198\n",
       "Prob(Omnibus):                  0.000   Jarque-Bera (JB):               15.394\n",
       "Skew:                           0.229   Prob(JB):                     0.000454\n",
       "Kurtosis:                       2.571   Cond. No.                     5.45e+04\n",
       "==============================================================================\n",
       "\n",
       "Warnings:\n",
       "[1] Standard Errors assume that the covariance matrix of the errors is correctly specified.\n",
       "[2] The condition number is large, 5.45e+04. This might indicate that there are\n",
       "strong multicollinearity or other numerical problems.\n",
       "\"\"\""
      ]
     },
     "execution_count": 14,
     "metadata": {},
     "output_type": "execute_result"
    }
   ],
   "source": [
    "model.fit().summary()"
   ]
  },
  {
   "cell_type": "code",
   "execution_count": 15,
   "metadata": {},
   "outputs": [],
   "source": [
    "from sklearn.linear_model import LinearRegression, Lasso\n",
    "from sklearn.model_selection import cross_val_score"
   ]
  },
  {
   "cell_type": "code",
   "execution_count": 16,
   "metadata": {},
   "outputs": [
    {
     "data": {
      "text/plain": [
       "LinearRegression()"
      ]
     },
     "execution_count": 16,
     "metadata": {},
     "output_type": "execute_result"
    }
   ],
   "source": [
    "lm=LinearRegression()\n",
    "lm.fit(X_train,y_train)"
   ]
  },
  {
   "cell_type": "code",
   "execution_count": 17,
   "metadata": {},
   "outputs": [
    {
     "data": {
      "text/plain": [
       "-23.941355441378295"
      ]
     },
     "execution_count": 17,
     "metadata": {},
     "output_type": "execute_result"
    }
   ],
   "source": [
    "np.mean(cross_val_score(lm,X_train,y_train,scoring='neg_mean_absolute_error', cv=3))"
   ]
  },
  {
   "cell_type": "markdown",
   "metadata": {},
   "source": [
    "## Lasso Regression"
   ]
  },
  {
   "cell_type": "code",
   "execution_count": 18,
   "metadata": {},
   "outputs": [],
   "source": [
    "lm_l=Lasso(alpha=.19)"
   ]
  },
  {
   "cell_type": "code",
   "execution_count": 19,
   "metadata": {},
   "outputs": [
    {
     "data": {
      "text/plain": [
       "Lasso(alpha=0.19)"
      ]
     },
     "execution_count": 19,
     "metadata": {},
     "output_type": "execute_result"
    }
   ],
   "source": [
    "lm_l.fit(X_train,y_train)"
   ]
  },
  {
   "cell_type": "code",
   "execution_count": 20,
   "metadata": {},
   "outputs": [
    {
     "data": {
      "text/plain": [
       "-23.92235957033688"
      ]
     },
     "execution_count": 20,
     "metadata": {},
     "output_type": "execute_result"
    }
   ],
   "source": [
    "np.mean(cross_val_score(lm_l,X_train,y_train,scoring='neg_mean_absolute_error', cv=3))"
   ]
  },
  {
   "cell_type": "code",
   "execution_count": 21,
   "metadata": {},
   "outputs": [
    {
     "data": {
      "text/plain": [
       "[<matplotlib.lines.Line2D at 0x2ad93add348>]"
      ]
     },
     "execution_count": 21,
     "metadata": {},
     "output_type": "execute_result"
    },
    {
     "data": {
      "image/png": "[encoded data removed]",
      "text/plain": [
       "<Figure size 432x288 with 1 Axes>"
      ]
     },
     "metadata": {
      "needs_background": "light"
     },
     "output_type": "display_data"
    }
   ],
   "source": [
    "alpha=[]\n",
    "error=[]\n",
    "\n",
    "for i in range(1,100):\n",
    "    alpha.append(i/100)\n",
    "    lml=Lasso(alpha=(i/100))\n",
    "    error.append(np.mean(cross_val_score(lml,X_train,y_train,scoring='neg_mean_absolute_error', cv=3)))\n",
    "\n",
    "plt.plot(alpha,error)"
   ]
  },
  {
   "cell_type": "code",
   "execution_count": 22,
   "metadata": {},
   "outputs": [
    {
     "data": {
      "text/html": [
       "<div>\n",
       "<style scoped>\n",
       "    .dataframe tbody tr th:only-of-type {\n",
       "        vertical-align: middle;\n",
       "    }\n",
       "\n",
       "    .dataframe tbody tr th {\n",
       "        vertical-align: top;\n",
       "    }\n",
       "\n",
       "    .dataframe thead th {\n",
       "        text-align: right;\n",
       "    }\n",
       "</style>\n",
       "<table border=\"1\" class=\"dataframe\">\n",
       "  <thead>\n",
       "    <tr style=\"text-align: right;\">\n",
       "      <th></th>\n",
       "      <th>alpha</th>\n",
       "      <th>error</th>\n",
       "    </tr>\n",
       "  </thead>\n",
       "  <tbody>\n",
       "    <tr>\n",
       "      <th>18</th>\n",
       "      <td>0.19</td>\n",
       "      <td>-23.92236</td>\n",
       "    </tr>\n",
       "  </tbody>\n",
       "</table>\n",
       "</div>"
      ],
      "text/plain": [
       "    alpha     error\n",
       "18   0.19 -23.92236"
      ]
     },
     "execution_count": 22,
     "metadata": {},
     "output_type": "execute_result"
    }
   ],
   "source": [
    "err = tuple(zip(alpha,error))\n",
    "df_err = pd.DataFrame(err, columns = ['alpha','error'])\n",
    "df_err[df_err.error == max(df_err.error)]"
   ]
  },
  {
   "cell_type": "markdown",
   "metadata": {},
   "source": [
    "## Random Forest"
   ]
  },
  {
   "cell_type": "code",
   "execution_count": 23,
   "metadata": {},
   "outputs": [
    {
     "data": {
      "text/plain": [
       "-23.09050190391658"
      ]
     },
     "execution_count": 23,
     "metadata": {},
     "output_type": "execute_result"
    }
   ],
   "source": [
    "from sklearn.ensemble import RandomForestRegressor\n",
    "\n",
    "rf=RandomForestRegressor()\n",
    "\n",
    "rf1=rf.fit(X_train,y_train)\n",
    "\n",
    "np.mean(cross_val_score(rf1,X_train,y_train,scoring='neg_mean_absolute_error', cv=3))"
   ]
  },
  {
   "cell_type": "markdown",
   "metadata": {},
   "source": [
    "## Grid Search"
   ]
  },
  {
   "cell_type": "code",
   "execution_count": 24,
   "metadata": {},
   "outputs": [
    {
     "data": {
      "text/plain": [
       "RandomForestRegressor(criterion='mae', max_features='sqrt', n_estimators=80)"
      ]
     },
     "execution_count": 24,
     "metadata": {},
     "output_type": "execute_result"
    }
   ],
   "source": [
    "from sklearn.model_selection import GridSearchCV\n",
    "from sklearn import preprocessing\n",
    "\n",
    "X_train=preprocessing.scale(X_train)\n",
    "\n",
    "parameters={'n_estimators':range(10,200,10), 'criterion':('mse','mae'), 'max_features':('auto','sqrt','log2')}\n",
    "\n",
    "gs=GridSearchCV(rf,parameters,scoring='neg_mean_absolute_error',cv=3,n_jobs=-1)\n",
    "\n",
    "gs.fit(X_train,y_train)\n",
    "\n",
    "gs.best_score_\n",
    "\n",
    "gs.best_estimator_"
   ]
  },
  {
   "cell_type": "markdown",
   "metadata": {},
   "source": [
    "## Test Ensembles"
   ]
  },
  {
   "cell_type": "code",
   "execution_count": 25,
   "metadata": {},
   "outputs": [],
   "source": [
    "tpred_lm=lm.predict(X_test)\n",
    "\n",
    "tpred_lml=lm_l.predict(X_test)\n",
    "\n",
    "tpred_rfgs=gs.best_estimator_.predict(X_test)\n",
    "\n",
    "tpred_rf=rf1.predict(X_test)"
   ]
  },
  {
   "cell_type": "code",
   "execution_count": 27,
   "metadata": {},
   "outputs": [
    {
     "name": "stdout",
     "output_type": "stream",
     "text": [
      "23.296634208032472\n",
      "23.543162703332694\n",
      "23.007131811819974\n",
      "23.941605718085107\n"
     ]
    }
   ],
   "source": [
    "from sklearn.metrics import mean_absolute_error\n",
    "\n",
    "print(mean_absolute_error(y_test,tpred_lm))\n",
    "\n",
    "print(mean_absolute_error(y_test,tpred_lml))\n",
    "\n",
    "print(mean_absolute_error(y_test,tpred_rf))\n",
    "\n",
    "print(mean_absolute_error(y_test,tpred_rfgs))"
   ]
  },
  {
   "cell_type": "markdown",
   "metadata": {},
   "source": [
    "The Random Forest model seems to have the least error, so that's the model that will be chosen."
   ]
  },
  {
   "cell_type": "markdown",
   "metadata": {},
   "source": [
    "## Pickling "
   ]
  },
  {
   "cell_type": "code",
   "execution_count": 28,
   "metadata": {},
   "outputs": [],
   "source": [
    "import joblib"
   ]
  },
  {
   "cell_type": "code",
   "execution_count": 29,
   "metadata": {},
   "outputs": [
    {
     "data": {
      "text/plain": [
       "['model.pkl']"
      ]
     },
     "execution_count": 29,
     "metadata": {},
     "output_type": "execute_result"
    }
   ],
   "source": [
    "joblib.dump(rf1,'model.pkl')"
   ]
  },
  {
   "cell_type": "code",
   "execution_count": 30,
   "metadata": {},
   "outputs": [],
   "source": [
    "model=joblib.load('model.pkl')"
   ]
  },
  {
   "cell_type": "code",
   "execution_count": 31,
   "metadata": {},
   "outputs": [
    {
     "data": {
      "text/plain": [
       "114.14920833333333"
      ]
     },
     "execution_count": 31,
     "metadata": {},
     "output_type": "execute_result"
    }
   ],
   "source": [
    "model.predict(np.array(list(X_test.iloc[1,:])).reshape(1,-1))[0]"
   ]
  },
  {
   "cell_type": "code",
   "execution_count": 32,
   "metadata": {},
   "outputs": [
    {
     "data": {
      "text/plain": [
       "array([4.200e+00, 0.000e+00, 1.700e+01, 0.000e+00, 1.000e+00, 0.000e+00,\n",
       "       0.000e+00, 1.000e+00, 1.000e+00, 0.000e+00, 1.000e+00, 0.000e+00,\n",
       "       0.000e+00, 0.000e+00, 0.000e+00, 0.000e+00, 0.000e+00, 0.000e+00,\n",
       "       1.000e+00, 1.000e+00, 1.446e+03, 3.000e+00, 2.000e+00])"
      ]
     },
     "execution_count": 32,
     "metadata": {},
     "output_type": "execute_result"
    }
   ],
   "source": [
    "np.array(list(X_test.iloc[1,:]))"
   ]
  },
  {
   "cell_type": "code",
   "execution_count": 33,
   "metadata": {},
   "outputs": [
    {
     "data": {
      "text/plain": [
       "numpy.ndarray"
      ]
     },
     "execution_count": 33,
     "metadata": {},
     "output_type": "execute_result"
    }
   ],
   "source": [
    "type(np.array(list(X_test.iloc[1,:])))"
   ]
  }
 ],
 "metadata": {
  "kernelspec": {
   "display_name": "Python 3",
   "language": "python",
   "name": "python3"
  },
  "language_info": {
   "codemirror_mode": {
    "name": "ipython",
    "version": 3
   },
   "file_extension": ".py",
   "mimetype": "text/x-python",
   "name": "python",
   "nbconvert_exporter": "python",
   "pygments_lexer": "ipython3",
   "version": "3.7.7"
  }
 },
 "nbformat": 4,
 "nbformat_minor": 4
}
