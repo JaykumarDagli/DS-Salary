{
 "cells": [
  {
   "cell_type": "markdown",
   "metadata": {},
   "source": [
    "## Import Necessary libraries"
   ]
  },
  {
   "cell_type": "code",
   "execution_count": 1,
   "metadata": {},
   "outputs": [],
   "source": [
    "import pandas as pd\n",
    "import numpy as np\n",
    "import matplotlib.pyplot as plt\n",
    "import seaborn as sns \n",
    "\n",
    "from sklearn.model_selection import cross_val_score, train_test_split, GridSearchCV, RandomizedSearchCV\n",
    "from sklearn import metrics\n",
    "from sklearn.metrics import roc_auc_score, confusion_matrix, mean_squared_error\n",
    "\n",
    "import warnings\n",
    "warnings.filterwarnings('ignore')"
   ]
  },
  {
   "cell_type": "markdown",
   "metadata": {},
   "source": [
    "## Reading the File"
   ]
  },
  {
   "cell_type": "code",
   "execution_count": 2,
   "metadata": {},
   "outputs": [],
   "source": [
    "df=pd.read_csv('glassdoor_jobs.csv')"
   ]
  },
  {
   "cell_type": "code",
   "execution_count": 4,
   "metadata": {},
   "outputs": [
    {
     "name": "stdout",
     "output_type": "stream",
     "text": [
      "<class 'pandas.core.frame.DataFrame'>\n",
      "RangeIndex: 1000 entries, 0 to 999\n",
      "Data columns (total 14 columns):\n",
      " #   Column             Non-Null Count  Dtype  \n",
      "---  ------             --------------  -----  \n",
      " 0   Job Title          1000 non-null   object \n",
      " 1   Salary Estimate    1000 non-null   object \n",
      " 2   Job Description    1000 non-null   object \n",
      " 3   Rating             1000 non-null   float64\n",
      " 4   Company Name       1000 non-null   object \n",
      " 5   Location           1000 non-null   object \n",
      " 6   Headquarters       1000 non-null   object \n",
      " 7   Size               1000 non-null   object \n",
      " 8   Founded            1000 non-null   int64  \n",
      " 9   Type of ownership  1000 non-null   object \n",
      " 10  Industry           1000 non-null   object \n",
      " 11  Sector             1000 non-null   object \n",
      " 12  Revenue            1000 non-null   object \n",
      " 13  Competitors        1000 non-null   object \n",
      "dtypes: float64(1), int64(1), object(12)\n",
      "memory usage: 109.5+ KB\n"
     ]
    }
   ],
   "source": [
    "df.info()"
   ]
  },
  {
   "cell_type": "code",
   "execution_count": 6,
   "metadata": {},
   "outputs": [
    {
     "data": {
      "text/html": [
       "<div>\n",
       "<style scoped>\n",
       "    .dataframe tbody tr th:only-of-type {\n",
       "        vertical-align: middle;\n",
       "    }\n",
       "\n",
       "    .dataframe tbody tr th {\n",
       "        vertical-align: top;\n",
       "    }\n",
       "\n",
       "    .dataframe thead th {\n",
       "        text-align: right;\n",
       "    }\n",
       "</style>\n",
       "<table border=\"1\" class=\"dataframe\">\n",
       "  <thead>\n",
       "    <tr style=\"text-align: right;\">\n",
       "      <th></th>\n",
       "      <th>Job Title</th>\n",
       "      <th>Salary Estimate</th>\n",
       "      <th>Job Description</th>\n",
       "      <th>Rating</th>\n",
       "      <th>Company Name</th>\n",
       "      <th>Location</th>\n",
       "      <th>Headquarters</th>\n",
       "      <th>Size</th>\n",
       "      <th>Founded</th>\n",
       "      <th>Type of ownership</th>\n",
       "      <th>Industry</th>\n",
       "      <th>Sector</th>\n",
       "      <th>Revenue</th>\n",
       "      <th>Competitors</th>\n",
       "    </tr>\n",
       "  </thead>\n",
       "  <tbody>\n",
       "    <tr>\n",
       "      <th>0</th>\n",
       "      <td>Data Scientist</td>\n",
       "      <td>$64K-$106K (Glassdoor est.)</td>\n",
       "      <td>Secure our Nation, Ignite your Future\\n\\nJoin ...</td>\n",
       "      <td>4.2</td>\n",
       "      <td>ManTech\\n4.2</td>\n",
       "      <td>Chantilly, VA</td>\n",
       "      <td>Herndon, VA</td>\n",
       "      <td>5001 to 10000 employees</td>\n",
       "      <td>1968</td>\n",
       "      <td>Company - Public</td>\n",
       "      <td>Research &amp; Development</td>\n",
       "      <td>Business Services</td>\n",
       "      <td>$1 to $2 billion (USD)</td>\n",
       "      <td>-1</td>\n",
       "    </tr>\n",
       "    <tr>\n",
       "      <th>1</th>\n",
       "      <td>Associate Business Intelligence Data Scientist</td>\n",
       "      <td>$64K-$106K (Glassdoor est.)</td>\n",
       "      <td>Blending customer advisory, customer support, ...</td>\n",
       "      <td>3.2</td>\n",
       "      <td>Carousel Industries\\n3.2</td>\n",
       "      <td>Exeter, RI</td>\n",
       "      <td>Exeter, RI</td>\n",
       "      <td>1001 to 5000 employees</td>\n",
       "      <td>1992</td>\n",
       "      <td>Company - Private</td>\n",
       "      <td>IT Services</td>\n",
       "      <td>Information Technology</td>\n",
       "      <td>$500 million to $1 billion (USD)</td>\n",
       "      <td>-1</td>\n",
       "    </tr>\n",
       "    <tr>\n",
       "      <th>2</th>\n",
       "      <td>Scientist, Population Genomics</td>\n",
       "      <td>$64K-$106K (Glassdoor est.)</td>\n",
       "      <td>WuXi NextCODE is seeking a motivated Scientist...</td>\n",
       "      <td>2.9</td>\n",
       "      <td>Carousel Industries\\n3.2</td>\n",
       "      <td>Cambridge, MA</td>\n",
       "      <td>Cambridge, MA</td>\n",
       "      <td>501 to 1000 employees</td>\n",
       "      <td>2015</td>\n",
       "      <td>Company - Private</td>\n",
       "      <td>Biotech &amp; Pharmaceuticals</td>\n",
       "      <td>Biotech &amp; Pharmaceuticals</td>\n",
       "      <td>Unknown / Non-Applicable</td>\n",
       "      <td>-1</td>\n",
       "    </tr>\n",
       "    <tr>\n",
       "      <th>3</th>\n",
       "      <td>Data Analyst II</td>\n",
       "      <td>$64K-$106K (Glassdoor est.)</td>\n",
       "      <td>The Data Analyst II is responsible for data en...</td>\n",
       "      <td>4.2</td>\n",
       "      <td>Insight Enterprises, Inc.\\n4.2</td>\n",
       "      <td>Plano, TX</td>\n",
       "      <td>Tempe, AZ</td>\n",
       "      <td>5001 to 10000 employees</td>\n",
       "      <td>1988</td>\n",
       "      <td>Company - Public</td>\n",
       "      <td>Enterprise Software &amp; Network Solutions</td>\n",
       "      <td>Information Technology</td>\n",
       "      <td>$5 to $10 billion (USD)</td>\n",
       "      <td>CDW, PCM, SHI International</td>\n",
       "    </tr>\n",
       "    <tr>\n",
       "      <th>4</th>\n",
       "      <td>Sensory Scientist</td>\n",
       "      <td>$64K-$106K (Glassdoor est.)</td>\n",
       "      <td>A leading food production company in St. Louis...</td>\n",
       "      <td>3.8</td>\n",
       "      <td>NIC Infotek\\n3.8</td>\n",
       "      <td>Saint Louis, MO</td>\n",
       "      <td>Tampa, FL</td>\n",
       "      <td>51 to 200 employees</td>\n",
       "      <td>2004</td>\n",
       "      <td>Company - Public</td>\n",
       "      <td>Staffing &amp; Outsourcing</td>\n",
       "      <td>Business Services</td>\n",
       "      <td>Unknown / Non-Applicable</td>\n",
       "      <td>-1</td>\n",
       "    </tr>\n",
       "  </tbody>\n",
       "</table>\n",
       "</div>"
      ],
      "text/plain": [
       "                                        Job Title  \\\n",
       "0                                  Data Scientist   \n",
       "1  Associate Business Intelligence Data Scientist   \n",
       "2                  Scientist, Population Genomics   \n",
       "3                                 Data Analyst II   \n",
       "4                               Sensory Scientist   \n",
       "\n",
       "               Salary Estimate  \\\n",
       "0  $64K-$106K (Glassdoor est.)   \n",
       "1  $64K-$106K (Glassdoor est.)   \n",
       "2  $64K-$106K (Glassdoor est.)   \n",
       "3  $64K-$106K (Glassdoor est.)   \n",
       "4  $64K-$106K (Glassdoor est.)   \n",
       "\n",
       "                                     Job Description  Rating  \\\n",
       "0  Secure our Nation, Ignite your Future\\n\\nJoin ...     4.2   \n",
       "1  Blending customer advisory, customer support, ...     3.2   \n",
       "2  WuXi NextCODE is seeking a motivated Scientist...     2.9   \n",
       "3  The Data Analyst II is responsible for data en...     4.2   \n",
       "4  A leading food production company in St. Louis...     3.8   \n",
       "\n",
       "                     Company Name         Location   Headquarters  \\\n",
       "0                    ManTech\\n4.2    Chantilly, VA    Herndon, VA   \n",
       "1        Carousel Industries\\n3.2       Exeter, RI     Exeter, RI   \n",
       "2        Carousel Industries\\n3.2    Cambridge, MA  Cambridge, MA   \n",
       "3  Insight Enterprises, Inc.\\n4.2        Plano, TX      Tempe, AZ   \n",
       "4                NIC Infotek\\n3.8  Saint Louis, MO      Tampa, FL   \n",
       "\n",
       "                      Size  Founded  Type of ownership  \\\n",
       "0  5001 to 10000 employees     1968   Company - Public   \n",
       "1   1001 to 5000 employees     1992  Company - Private   \n",
       "2    501 to 1000 employees     2015  Company - Private   \n",
       "3  5001 to 10000 employees     1988   Company - Public   \n",
       "4      51 to 200 employees     2004   Company - Public   \n",
       "\n",
       "                                  Industry                     Sector  \\\n",
       "0                   Research & Development          Business Services   \n",
       "1                              IT Services     Information Technology   \n",
       "2                Biotech & Pharmaceuticals  Biotech & Pharmaceuticals   \n",
       "3  Enterprise Software & Network Solutions     Information Technology   \n",
       "4                   Staffing & Outsourcing          Business Services   \n",
       "\n",
       "                            Revenue                  Competitors  \n",
       "0            $1 to $2 billion (USD)                           -1  \n",
       "1  $500 million to $1 billion (USD)                           -1  \n",
       "2          Unknown / Non-Applicable                           -1  \n",
       "3           $5 to $10 billion (USD)  CDW, PCM, SHI International  \n",
       "4          Unknown / Non-Applicable                           -1  "
      ]
     },
     "execution_count": 6,
     "metadata": {},
     "output_type": "execute_result"
    }
   ],
   "source": [
    "df.head()"
   ]
  },
  {
   "cell_type": "code",
   "execution_count": 7,
   "metadata": {},
   "outputs": [
    {
     "data": {
      "text/plain": [
       "(1000, 14)"
      ]
     },
     "execution_count": 7,
     "metadata": {},
     "output_type": "execute_result"
    }
   ],
   "source": [
    "df.shape"
   ]
  },
  {
   "cell_type": "code",
   "execution_count": null,
   "metadata": {},
   "outputs": [],
   "source": []
  },
  {
   "cell_type": "code",
   "execution_count": 11,
   "metadata": {},
   "outputs": [
    {
     "data": {
      "text/plain": [
       "$96K-$156K (Glassdoor est.)     170\n",
       "$97K-$156K (Glassdoor est.)      32\n",
       "$111K-$181K (Glassdoor est.)     32\n",
       "$57K-$97K (Glassdoor est.)       32\n",
       "$57K-$98K (Glassdoor est.)       32\n",
       "$60K-$101K (Glassdoor est.)      32\n",
       "$109K-$178K (Glassdoor est.)     32\n",
       "$60K-$100K (Glassdoor est.)      32\n",
       "$108K-$171K (Glassdoor est.)     32\n",
       "$58K-$69K (Glassdoor est.)       32\n",
       "$69K-$118K (Glassdoor est.)      32\n",
       "$55K-$91K (Glassdoor est.)       32\n",
       "$90K-$115K(Employer est.)        32\n",
       "$105K-$166K (Glassdoor est.)     32\n",
       "$141K-$225K (Glassdoor est.)     32\n",
       "$72K-$122K (Glassdoor est.)      32\n",
       "$56K-$97K (Glassdoor est.)       32\n",
       "$97K-$154K (Glassdoor est.)      32\n",
       "$74K-$123K (Glassdoor est.)      32\n",
       "$94K-$154K (Glassdoor est.)      32\n",
       "$119K-$186K (Glassdoor est.)     32\n",
       "$99K-$110K (Glassdoor est.)      32\n",
       "$96K-$101K (Glassdoor est.)      32\n",
       "$112K-$179K (Glassdoor est.)     32\n",
       "$73K-$125K (Glassdoor est.)      32\n",
       "$115K-$140K (Glassdoor est.)     32\n",
       "$64K-$106K (Glassdoor est.)      30\n",
       "Name: Salary Estimate, dtype: int64"
      ]
     },
     "execution_count": 11,
     "metadata": {},
     "output_type": "execute_result"
    }
   ],
   "source": [
    "#checking salary estimate values\n",
    "df['Salary Estimate'].value_counts()"
   ]
  },
  {
   "cell_type": "code",
   "execution_count": 13,
   "metadata": {},
   "outputs": [
    {
     "data": {
      "text/plain": [
       "San Francisco, CA      64\n",
       "New York, NY           57\n",
       "Boston, MA             30\n",
       "Reston, VA             25\n",
       "-1                     21\n",
       "                       ..\n",
       "Rolling Meadows, IL     1\n",
       "Scottsdale, AZ          1\n",
       "Plainsboro, NJ          1\n",
       "Holyoke, MA             1\n",
       "Phila, PA               1\n",
       "Name: Headquarters, Length: 282, dtype: int64"
      ]
     },
     "execution_count": 13,
     "metadata": {},
     "output_type": "execute_result"
    }
   ],
   "source": [
    "#checking values for HQ\n",
    "df['Headquarters'].value_counts()"
   ]
  },
  {
   "cell_type": "code",
   "execution_count": 17,
   "metadata": {},
   "outputs": [
    {
     "data": {
      "text/plain": [
       "0    Secure our Nation, Ignite your Future\\n\\nJoin ...\n",
       "1    Blending customer advisory, customer support, ...\n",
       "2    WuXi NextCODE is seeking a motivated Scientist...\n",
       "3    The Data Analyst II is responsible for data en...\n",
       "4    A leading food production company in St. Louis...\n",
       "Name: Job Description, dtype: object"
      ]
     },
     "execution_count": 17,
     "metadata": {},
     "output_type": "execute_result"
    }
   ],
   "source": [
    "#job description\n",
    "df['Job Description'].head()"
   ]
  },
  {
   "cell_type": "code",
   "execution_count": 14,
   "metadata": {},
   "outputs": [
    {
     "data": {
      "text/plain": [
       " 3.6    68\n",
       " 3.8    67\n",
       " 4.0    65\n",
       " 3.9    62\n",
       " 3.5    61\n",
       " 3.4    55\n",
       " 5.0    51\n",
       " 4.1    50\n",
       " 4.2    48\n",
       "-1.0    46\n",
       " 4.5    46\n",
       " 3.7    46\n",
       " 4.3    42\n",
       " 4.6    36\n",
       " 3.1    32\n",
       " 3.2    30\n",
       " 3.3    29\n",
       " 4.4    27\n",
       " 4.7    24\n",
       " 4.9    18\n",
       " 2.9    18\n",
       " 4.8    17\n",
       " 3.0    17\n",
       " 2.5     9\n",
       " 2.3     8\n",
       " 2.2     8\n",
       " 2.7     7\n",
       " 2.6     6\n",
       " 2.8     4\n",
       " 2.4     1\n",
       " 1.5     1\n",
       " 2.0     1\n",
       "Name: Rating, dtype: int64"
      ]
     },
     "execution_count": 14,
     "metadata": {},
     "output_type": "execute_result"
    }
   ],
   "source": [
    "df['Rating'].value_counts()"
   ]
  },
  {
   "cell_type": "markdown",
   "metadata": {},
   "source": [
    "Cleaning tasks:\n",
    "\n",
    "1. Remove \"Glassdoor est\" and 'K' from Salary\n",
    "2. Remove -1 values from HQ\n",
    "3. Convert salary estimate from range to single value [average]\n",
    "5. Remove -1 from rating\n",
    "6. Remove Rating from Company Name field\n",
    "7. Add a State field using location\n",
    "8. Check if job location and HQ are same\n",
    "9. Add an Age field for the company [current year - founded]\n",
    "10. Split job description into various job skills [R, Python, AWS, Docker etc] and job position [data scientist,analyst etc.]\n",
    "and seniority level\n",
    "11. Replace number of Competitors by count and remove -1"
   ]
  },
  {
   "cell_type": "markdown",
   "metadata": {},
   "source": [
    "## Data Cleaning"
   ]
  },
  {
   "cell_type": "markdown",
   "metadata": {},
   "source": [
    "### Headquarters"
   ]
  },
  {
   "cell_type": "code",
   "execution_count": 30,
   "metadata": {},
   "outputs": [],
   "source": [
    "#dropping ones with -1 in HQ\n",
    "df=df[df['Headquarters']!='-1']"
   ]
  },
  {
   "cell_type": "code",
   "execution_count": 31,
   "metadata": {},
   "outputs": [
    {
     "name": "stdout",
     "output_type": "stream",
     "text": [
      "<class 'pandas.core.frame.DataFrame'>\n",
      "Int64Index: 979 entries, 0 to 999\n",
      "Data columns (total 14 columns):\n",
      " #   Column             Non-Null Count  Dtype  \n",
      "---  ------             --------------  -----  \n",
      " 0   Job Title          979 non-null    object \n",
      " 1   Salary Estimate    979 non-null    object \n",
      " 2   Job Description    979 non-null    object \n",
      " 3   Rating             979 non-null    float64\n",
      " 4   Company Name       979 non-null    object \n",
      " 5   Location           979 non-null    object \n",
      " 6   Headquarters       979 non-null    object \n",
      " 7   Size               979 non-null    object \n",
      " 8   Founded            979 non-null    int64  \n",
      " 9   Type of ownership  979 non-null    object \n",
      " 10  Industry           979 non-null    object \n",
      " 11  Sector             979 non-null    object \n",
      " 12  Revenue            979 non-null    object \n",
      " 13  Competitors        979 non-null    object \n",
      "dtypes: float64(1), int64(1), object(12)\n",
      "memory usage: 114.7+ KB\n"
     ]
    }
   ],
   "source": [
    "df.info()"
   ]
  },
  {
   "cell_type": "code",
   "execution_count": 32,
   "metadata": {},
   "outputs": [
    {
     "data": {
      "text/plain": [
       "San Francisco, CA     64\n",
       "New York, NY          57\n",
       "Boston, MA            30\n",
       "Reston, VA            25\n",
       "Cambridge, MA         17\n",
       "                      ..\n",
       "Suwon, South Korea     1\n",
       "Ventura, CA            1\n",
       "Dearborn, MI           1\n",
       "Alpharetta, GA         1\n",
       "Lake Oswego, OR        1\n",
       "Name: Headquarters, Length: 281, dtype: int64"
      ]
     },
     "execution_count": 32,
     "metadata": {},
     "output_type": "execute_result"
    }
   ],
   "source": [
    "df['Headquarters'].value_counts()"
   ]
  },
  {
   "cell_type": "markdown",
   "metadata": {},
   "source": [
    "### Salary"
   ]
  },
  {
   "cell_type": "code",
   "execution_count": 34,
   "metadata": {},
   "outputs": [
    {
     "data": {
      "text/plain": [
       "0      $64K-$106K (Glassdoor est.)\n",
       "1      $64K-$106K (Glassdoor est.)\n",
       "2      $64K-$106K (Glassdoor est.)\n",
       "3      $64K-$106K (Glassdoor est.)\n",
       "4      $64K-$106K (Glassdoor est.)\n",
       "                  ...             \n",
       "995    $96K-$156K (Glassdoor est.)\n",
       "996    $96K-$156K (Glassdoor est.)\n",
       "997    $96K-$156K (Glassdoor est.)\n",
       "998    $96K-$156K (Glassdoor est.)\n",
       "999    $96K-$156K (Glassdoor est.)\n",
       "Name: Salary Estimate, Length: 979, dtype: object"
      ]
     },
     "execution_count": 34,
     "metadata": {},
     "output_type": "execute_result"
    }
   ],
   "source": [
    "df['Salary Estimate']"
   ]
  },
  {
   "cell_type": "code",
   "execution_count": null,
   "metadata": {},
   "outputs": [],
   "source": []
  }
 ],
 "metadata": {
  "kernelspec": {
   "display_name": "Python 3",
   "language": "python",
   "name": "python3"
  },
  "language_info": {
   "codemirror_mode": {
    "name": "ipython",
    "version": 3
   },
   "file_extension": ".py",
   "mimetype": "text/x-python",
   "name": "python",
   "nbconvert_exporter": "python",
   "pygments_lexer": "ipython3",
   "version": "3.7.7"
  }
 },
 "nbformat": 4,
 "nbformat_minor": 4
}
